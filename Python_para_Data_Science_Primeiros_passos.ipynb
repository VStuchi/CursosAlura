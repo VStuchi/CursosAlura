{
  "nbformat": 4,
  "nbformat_minor": 0,
  "metadata": {
    "colab": {
      "provenance": []
    },
    "kernelspec": {
      "name": "python3",
      "display_name": "Python 3"
    },
    "language_info": {
      "name": "python"
    }
  },
  "cells": [
    {
      "cell_type": "markdown",
      "source": [
        "# Funções\n"
      ],
      "metadata": {
        "id": "3YpRIFrMb1q4"
      }
    },
    {
      "cell_type": "code",
      "execution_count": 4,
      "metadata": {
        "colab": {
          "base_uri": "https://localhost:8080/"
        },
        "id": "VydZkopBSmoT",
        "outputId": "d24df2bd-2456-41ac-abcb-c58ca075ec0c"
      },
      "outputs": [
        {
          "output_type": "stream",
          "name": "stdout",
          "text": [
            "Qual seu primeiro nome?Vinicius\n",
            "Qual o seu segundo nome?Stuchi\n",
            "Seu nome completo é Vinicius Stuchi\n"
          ]
        }
      ],
      "source": [
        "def nome_completo():\n",
        "  primeiro_nome = input(\"Qual seu primeiro nome?\")\n",
        "  segundo_nome = input(\"Qual o seu segundo nome?\")\n",
        "  nome_inteiro = primeiro_nome + \" \" + segundo_nome\n",
        "  print(\"Seu nome completo é\", nome_inteiro)\n",
        "nome_completo()\n",
        ""
      ]
    },
    {
      "cell_type": "code",
      "source": [
        "nome_completo()"
      ],
      "metadata": {
        "colab": {
          "base_uri": "https://localhost:8080/"
        },
        "id": "LAqXDseWTrtx",
        "outputId": "e1902a06-9165-4b40-dad2-9cf443602f79"
      },
      "execution_count": 5,
      "outputs": [
        {
          "output_type": "stream",
          "name": "stdout",
          "text": [
            "Qual seu primeiro nome?Rebeca\n",
            "Qual o seu segundo nome?Montanola\n",
            "Seu nome completo é Rebeca Montanola\n"
          ]
        }
      ]
    },
    {
      "cell_type": "markdown",
      "source": [
        "# Parâmetros\n"
      ],
      "metadata": {
        "id": "7MG39_VebT5J"
      }
    },
    {
      "cell_type": "code",
      "source": [
        "nome = \"Vinicius\""
      ],
      "metadata": {
        "id": "4Fdc5BoFbcwS"
      },
      "execution_count": 6,
      "outputs": []
    },
    {
      "cell_type": "code",
      "source": [
        "def nome_com_parametros(nome_pessoa):\n",
        "  print(f\"Olá {nome_pessoa}\")\n",
        ""
      ],
      "metadata": {
        "id": "JWZjQeMLbe0c"
      },
      "execution_count": 7,
      "outputs": []
    },
    {
      "cell_type": "code",
      "source": [
        "nome_com_parametros(nome)"
      ],
      "metadata": {
        "colab": {
          "base_uri": "https://localhost:8080/"
        },
        "id": "SEGHCfe4bsS4",
        "outputId": "a3bdca39-906d-4e87-9fad-2eafde61840a"
      },
      "execution_count": 8,
      "outputs": [
        {
          "output_type": "stream",
          "name": "stdout",
          "text": [
            "Olá Vinicius\n"
          ]
        }
      ]
    },
    {
      "cell_type": "markdown",
      "source": [
        "# Condicional"
      ],
      "metadata": {
        "id": "i6SLCPhMcUvy"
      }
    },
    {
      "cell_type": "code",
      "source": [
        "idade = 20\n",
        "\n",
        "def verifica_se_pode_dirigir(idade):\n",
        "  if idade >= 18:\n",
        "    print(\"Pode dirigir\")\n",
        "  else:\n",
        "     print(\"Não pode dirigir\")\n",
        "\n",
        "verifica_se_pode_dirigir(idade)"
      ],
      "metadata": {
        "colab": {
          "base_uri": "https://localhost:8080/"
        },
        "id": "2Wnuhy-RcXfY",
        "outputId": "86207318-7251-4c6a-e326-1292f9dd1a06"
      },
      "execution_count": 9,
      "outputs": [
        {
          "output_type": "stream",
          "name": "stdout",
          "text": [
            "Pode dirigir\n"
          ]
        }
      ]
    },
    {
      "cell_type": "code",
      "source": [
        "def verifica_se_pode_dirigir_sem_parametro():\n",
        "  idade = int(input(\"Digite sua idade: \"))\n",
        "\n",
        "  if idade >= 18:\n",
        "    print(\"Pode dirigir\")\n",
        "  else:\n",
        "    print(\"Não pode dirigir\")\n",
        "\n",
        "verifica_se_pode_dirigir_sem_parametro()"
      ],
      "metadata": {
        "colab": {
          "base_uri": "https://localhost:8080/"
        },
        "id": "a9vk-dVHde7D",
        "outputId": "7a40dda6-961c-450b-e653-398c81d305b1"
      },
      "execution_count": 11,
      "outputs": [
        {
          "output_type": "stream",
          "name": "stdout",
          "text": [
            "Digite sua idade: 15\n",
            "Não pode dirigir\n"
          ]
        }
      ]
    }
  ]
}