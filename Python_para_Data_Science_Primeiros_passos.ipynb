{
  "nbformat": 4,
  "nbformat_minor": 0,
  "metadata": {
    "colab": {
      "provenance": [],
      "collapsed_sections": [
        "O3-3Y9TVe28J"
      ],
      "authorship_tag": "ABX9TyPzYWg5bNIVsIllJzVLWOSb",
      "include_colab_link": true
    },
    "kernelspec": {
      "name": "python3",
      "display_name": "Python 3"
    },
    "language_info": {
      "name": "python"
    }
  },
  "cells": [
    {
      "cell_type": "markdown",
      "metadata": {
        "id": "view-in-github",
        "colab_type": "text"
      },
      "source": [
        "<a href=\"https://colab.research.google.com/github/VStuchi/CursosAlura/blob/main/Python_para_Data_Science_Primeiros_passos.ipynb\" target=\"_parent\"><img src=\"https://colab.research.google.com/assets/colab-badge.svg\" alt=\"Open In Colab\"/></a>"
      ]
    },
    {
      "cell_type": "markdown",
      "source": [
        "# Funções\n"
      ],
      "metadata": {
        "id": "3YpRIFrMb1q4"
      }
    },
    {
      "cell_type": "code",
      "execution_count": null,
      "metadata": {
        "colab": {
          "base_uri": "https://localhost:8080/"
        },
        "id": "VydZkopBSmoT",
        "outputId": "d24df2bd-2456-41ac-abcb-c58ca075ec0c"
      },
      "outputs": [
        {
          "output_type": "stream",
          "name": "stdout",
          "text": [
            "Qual seu primeiro nome?Vinicius\n",
            "Qual o seu segundo nome?Stuchi\n",
            "Seu nome completo é Vinicius Stuchi\n"
          ]
        }
      ],
      "source": [
        "def nome_completo():\n",
        "  primeiro_nome = input(\"Qual seu primeiro nome?\")\n",
        "  segundo_nome = input(\"Qual o seu segundo nome?\")\n",
        "  nome_inteiro = primeiro_nome + \" \" + segundo_nome\n",
        "  print(\"Seu nome completo é\", nome_inteiro)\n",
        "nome_completo()\n"
      ]
    },
    {
      "cell_type": "code",
      "source": [
        "nome_completo()"
      ],
      "metadata": {
        "colab": {
          "base_uri": "https://localhost:8080/"
        },
        "id": "LAqXDseWTrtx",
        "outputId": "e1902a06-9165-4b40-dad2-9cf443602f79"
      },
      "execution_count": null,
      "outputs": [
        {
          "output_type": "stream",
          "name": "stdout",
          "text": [
            "Qual seu primeiro nome?Rebeca\n",
            "Qual o seu segundo nome?Montanola\n",
            "Seu nome completo é Rebeca Montanola\n"
          ]
        }
      ]
    },
    {
      "cell_type": "markdown",
      "source": [
        "# Parâmetros\n"
      ],
      "metadata": {
        "id": "7MG39_VebT5J"
      }
    },
    {
      "cell_type": "code",
      "source": [
        "nome = \"Vinicius\""
      ],
      "metadata": {
        "id": "4Fdc5BoFbcwS"
      },
      "execution_count": null,
      "outputs": []
    },
    {
      "cell_type": "code",
      "source": [
        "def nome_com_parametros(nome_pessoa):\n",
        "  print(f\"Olá {nome_pessoa}\")\n"
      ],
      "metadata": {
        "id": "JWZjQeMLbe0c"
      },
      "execution_count": null,
      "outputs": []
    },
    {
      "cell_type": "code",
      "source": [
        "nome_com_parametros(nome)"
      ],
      "metadata": {
        "colab": {
          "base_uri": "https://localhost:8080/"
        },
        "id": "SEGHCfe4bsS4",
        "outputId": "a3bdca39-906d-4e87-9fad-2eafde61840a"
      },
      "execution_count": null,
      "outputs": [
        {
          "output_type": "stream",
          "name": "stdout",
          "text": [
            "Olá Vinicius\n"
          ]
        }
      ]
    },
    {
      "cell_type": "markdown",
      "source": [
        "# Condicional"
      ],
      "metadata": {
        "id": "i6SLCPhMcUvy"
      }
    },
    {
      "cell_type": "code",
      "source": [
        "idade = 20\n",
        "\n",
        "def verifica_se_pode_dirigir(idade):\n",
        "  if idade >= 18:\n",
        "    print(\"Pode dirigir\")\n",
        "  else:\n",
        "     print(\"Não pode dirigir\")\n",
        "\n",
        "verifica_se_pode_dirigir(idade)"
      ],
      "metadata": {
        "colab": {
          "base_uri": "https://localhost:8080/"
        },
        "id": "2Wnuhy-RcXfY",
        "outputId": "86207318-7251-4c6a-e326-1292f9dd1a06"
      },
      "execution_count": null,
      "outputs": [
        {
          "output_type": "stream",
          "name": "stdout",
          "text": [
            "Pode dirigir\n"
          ]
        }
      ]
    },
    {
      "cell_type": "markdown",
      "source": [
        "# Convertendo tipo para inteiro\n"
      ],
      "metadata": {
        "id": "O3-3Y9TVe28J"
      }
    },
    {
      "cell_type": "code",
      "source": [
        "def verifica_se_pode_dirigir_sem_parametro():\n",
        "  idade = int(input(\"Digite sua idade: \"))\n",
        "\n",
        "  if idade >= 18:\n",
        "    print(\"Pode dirigir\")\n",
        "  else:\n",
        "    print(\"Não pode dirigir\")\n",
        "\n",
        "verifica_se_pode_dirigir_sem_parametro()"
      ],
      "metadata": {
        "colab": {
          "base_uri": "https://localhost:8080/"
        },
        "id": "a9vk-dVHde7D",
        "outputId": "7a40dda6-961c-450b-e653-398c81d305b1"
      },
      "execution_count": null,
      "outputs": [
        {
          "output_type": "stream",
          "name": "stdout",
          "text": [
            "Digite sua idade: 15\n",
            "Não pode dirigir\n"
          ]
        }
      ]
    },
    {
      "cell_type": "markdown",
      "source": [
        "# Lista\n"
      ],
      "metadata": {
        "id": "3BLMzw4Qew2u"
      }
    },
    {
      "cell_type": "code",
      "source": [
        "idade = 25"
      ],
      "metadata": {
        "id": "Z3BQddBPfJfT"
      },
      "execution_count": null,
      "outputs": []
    },
    {
      "cell_type": "code",
      "source": [
        "type (idade)"
      ],
      "metadata": {
        "colab": {
          "base_uri": "https://localhost:8080/"
        },
        "id": "fpgSOOORf-bS",
        "outputId": "9dd19320-aa61-4b16-b87b-26436add1ab5"
      },
      "execution_count": null,
      "outputs": [
        {
          "output_type": "execute_result",
          "data": {
            "text/plain": [
              "int"
            ]
          },
          "metadata": {},
          "execution_count": 13
        }
      ]
    },
    {
      "cell_type": "code",
      "source": [
        "idades = [15, 22, 36, 55]\n",
        "#         0   1   2   3\n",
        "#         0  -3  -2  -1\n",
        "\n",
        "type (idades)"
      ],
      "metadata": {
        "colab": {
          "base_uri": "https://localhost:8080/"
        },
        "id": "kyO6GJr1gCJn",
        "outputId": "1541cbdf-b096-4394-ebf7-ccc21c0143bf"
      },
      "execution_count": null,
      "outputs": [
        {
          "output_type": "execute_result",
          "data": {
            "text/plain": [
              "list"
            ]
          },
          "metadata": {},
          "execution_count": 14
        }
      ]
    },
    {
      "cell_type": "code",
      "source": [
        "nome = \"Vinicius\"\n",
        "type (nome)"
      ],
      "metadata": {
        "colab": {
          "base_uri": "https://localhost:8080/"
        },
        "id": "J6S9rtfVgOs4",
        "outputId": "24d89c88-b7a7-462c-a5ca-adf30f27ab9c"
      },
      "execution_count": null,
      "outputs": [
        {
          "output_type": "execute_result",
          "data": {
            "text/plain": [
              "str"
            ]
          },
          "metadata": {},
          "execution_count": 17
        }
      ]
    },
    {
      "cell_type": "code",
      "source": [
        "idades[2]"
      ],
      "metadata": {
        "colab": {
          "base_uri": "https://localhost:8080/"
        },
        "id": "tfJPqShugJeV",
        "outputId": "ea8940c4-c471-4357-85cb-4541fa74c12d"
      },
      "execution_count": null,
      "outputs": [
        {
          "output_type": "execute_result",
          "data": {
            "text/plain": [
              "36"
            ]
          },
          "metadata": {},
          "execution_count": 16
        }
      ]
    },
    {
      "cell_type": "code",
      "source": [
        "idades[0:2]"
      ],
      "metadata": {
        "colab": {
          "base_uri": "https://localhost:8080/"
        },
        "id": "cDJwvQW3gcUT",
        "outputId": "4cb06537-d40c-4950-ee5c-5eb2599f6b5e"
      },
      "execution_count": null,
      "outputs": [
        {
          "output_type": "execute_result",
          "data": {
            "text/plain": [
              "[15, 22]"
            ]
          },
          "metadata": {},
          "execution_count": 18
        }
      ]
    },
    {
      "cell_type": "code",
      "source": [
        "idades[1:]"
      ],
      "metadata": {
        "colab": {
          "base_uri": "https://localhost:8080/"
        },
        "id": "si-DKyTEghvz",
        "outputId": "2c84cd32-1033-4758-cefe-1f4d681ec182"
      },
      "execution_count": null,
      "outputs": [
        {
          "output_type": "execute_result",
          "data": {
            "text/plain": [
              "[22, 36, 55]"
            ]
          },
          "metadata": {},
          "execution_count": 19
        }
      ]
    },
    {
      "cell_type": "code",
      "source": [
        "idades[:2]"
      ],
      "metadata": {
        "colab": {
          "base_uri": "https://localhost:8080/"
        },
        "id": "qcwAT8yIgk_i",
        "outputId": "bf4ccc4b-9e47-4eac-891e-08b3508f4a7a"
      },
      "execution_count": null,
      "outputs": [
        {
          "output_type": "execute_result",
          "data": {
            "text/plain": [
              "[15, 22]"
            ]
          },
          "metadata": {},
          "execution_count": 20
        }
      ]
    },
    {
      "cell_type": "code",
      "source": [
        "idades[-2]"
      ],
      "metadata": {
        "colab": {
          "base_uri": "https://localhost:8080/"
        },
        "id": "K9R4ByoSgplw",
        "outputId": "9c7462d7-19bc-4365-c4fd-9f6e056279ce"
      },
      "execution_count": null,
      "outputs": [
        {
          "output_type": "execute_result",
          "data": {
            "text/plain": [
              "36"
            ]
          },
          "metadata": {},
          "execution_count": 21
        }
      ]
    },
    {
      "cell_type": "markdown",
      "source": [
        "# Laços e Loops\n"
      ],
      "metadata": {
        "id": "vAP37-mYh-M5"
      }
    },
    {
      "cell_type": "code",
      "source": [
        "idades"
      ],
      "metadata": {
        "colab": {
          "base_uri": "https://localhost:8080/"
        },
        "id": "nwt64KsJiCrW",
        "outputId": "7661b5c3-4ad1-4a60-d4c7-c3b5c7905839"
      },
      "execution_count": null,
      "outputs": [
        {
          "output_type": "execute_result",
          "data": {
            "text/plain": [
              "[15, 22, 36, 55]"
            ]
          },
          "metadata": {},
          "execution_count": 22
        }
      ]
    },
    {
      "cell_type": "code",
      "source": [
        "#for fora da função\n",
        "\n",
        "def verifica_se_pode_dirigir(idade):\n",
        "  if idade >= 18:\n",
        "    print(f\"{idade} anos de idade, PODE dirigir\")\n",
        "  else:\n",
        "     print(f\"{idade} anos de idade, NÃO pode dirigir\")\n",
        "for idade in idades:\n",
        "  verifica_se_pode_dirigir(idade)\n"
      ],
      "metadata": {
        "colab": {
          "base_uri": "https://localhost:8080/"
        },
        "id": "0NfDjYbsiGuj",
        "outputId": "eca7d085-5516-40c6-8fe1-df3017b109cc"
      },
      "execution_count": null,
      "outputs": [
        {
          "output_type": "stream",
          "name": "stdout",
          "text": [
            "15 anos de idade, NÃO pode dirigir\n",
            "22 anos de idade, PODE dirigir\n",
            "36 anos de idade, PODE dirigir\n",
            "55 anos de idade, PODE dirigir\n"
          ]
        }
      ]
    },
    {
      "cell_type": "code",
      "source": [
        "#for dentro da função\n",
        "def verifica_se_pode_dirigir(idades):\n",
        "  for idade in idades:\n",
        "    if idade >= 18:\n",
        "      print(f\"{idade} anos de idade, PODE dirigir\")\n",
        "    else:\n",
        "      print(f\"{idade} anos de idade, NÃO pode dirigir\")\n",
        "\n",
        "verifica_se_pode_dirigir(idades)"
      ],
      "metadata": {
        "colab": {
          "base_uri": "https://localhost:8080/"
        },
        "id": "1kL-APnSi7Bf",
        "outputId": "84fb9d33-b1ad-461a-e2a3-6fb34fe741fc"
      },
      "execution_count": null,
      "outputs": [
        {
          "output_type": "stream",
          "name": "stdout",
          "text": [
            "15 anos de idade, NÃO pode dirigir\n",
            "22 anos de idade, PODE dirigir\n",
            "36 anos de idade, PODE dirigir\n",
            "55 anos de idade, PODE dirigir\n"
          ]
        }
      ]
    },
    {
      "cell_type": "markdown",
      "source": [
        "# Booleano"
      ],
      "metadata": {
        "id": "USdP6VQykOoR"
      }
    },
    {
      "cell_type": "code",
      "source": [
        "idade = 18\n",
        "idade >= 18"
      ],
      "metadata": {
        "colab": {
          "base_uri": "https://localhost:8080/"
        },
        "id": "taPVryapkTjG",
        "outputId": "724b6197-25ca-4268-9aae-1405cbc1b321"
      },
      "execution_count": 1,
      "outputs": [
        {
          "output_type": "execute_result",
          "data": {
            "text/plain": [
              "True"
            ]
          },
          "metadata": {},
          "execution_count": 1
        }
      ]
    },
    {
      "cell_type": "code",
      "source": [
        "idade = 15\n",
        "idade >= 18"
      ],
      "metadata": {
        "colab": {
          "base_uri": "https://localhost:8080/"
        },
        "id": "KksXmAdikbkt",
        "outputId": "c882b86c-8ac7-4c00-c687-dfe5a5882c55"
      },
      "execution_count": 2,
      "outputs": [
        {
          "output_type": "execute_result",
          "data": {
            "text/plain": [
              "False"
            ]
          },
          "metadata": {},
          "execution_count": 2
        }
      ]
    },
    {
      "cell_type": "code",
      "source": [
        "permissoes = []\n",
        "idades = [20, 14, 40]\n",
        "\n",
        "def verifica_se_pode_dirigir(idades, permissoes):\n",
        "  for idade in idades:\n",
        "    if idade >= 18:\n",
        "      permissoes.append(True)\n",
        "    else:\n",
        "      permissoes.append(False)\n",
        "\n",
        "verifica_se_pode_dirigir(idades, permissoes)"
      ],
      "metadata": {
        "id": "rY7K-sl7kdr5"
      },
      "execution_count": 5,
      "outputs": []
    },
    {
      "cell_type": "code",
      "source": [
        "permissoes"
      ],
      "metadata": {
        "colab": {
          "base_uri": "https://localhost:8080/"
        },
        "id": "nucsk4tclJn6",
        "outputId": "7b511168-bb5f-4f33-9c24-35b0ca243f5c"
      },
      "execution_count": 6,
      "outputs": [
        {
          "output_type": "execute_result",
          "data": {
            "text/plain": [
              "[True, False, True]"
            ]
          },
          "metadata": {},
          "execution_count": 6
        }
      ]
    },
    {
      "cell_type": "code",
      "source": [
        "for permissao in permissoes:\n",
        "  if permissao == True:\n",
        "    print(f\"{idade[permissao]} anos, tem permissão para dirigir\")\n",
        "  else:\n",
        "    print(f\"{idade [permissao]} anos, não tem permissão para dirigir\")"
      ],
      "metadata": {
        "colab": {
          "base_uri": "https://localhost:8080/"
        },
        "id": "M-dAdZbklKmN",
        "outputId": "3f58a1c9-886d-4503-ec9e-6520284df85f"
      },
      "execution_count": 13,
      "outputs": [
        {
          "output_type": "stream",
          "name": "stdout",
          "text": [
            "14 anos, tem permissão para dirigir\n",
            "20 anos, não tem permissão para dirigir\n",
            "14 anos, tem permissão para dirigir\n"
          ]
        }
      ]
    }
  ]
}